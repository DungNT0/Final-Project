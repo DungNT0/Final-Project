{
  "nbformat": 4,
  "nbformat_minor": 0,
  "metadata": {
    "colab": {
      "name": "Final Project.ipynb ",
      "provenance": []
    },
    "kernelspec": {
      "name": "python3",
      "display_name": "Python 3"
    },
    "language_info": {
      "name": "python"
    }
  },
  "cells": [
    {
      "cell_type": "markdown",
      "metadata": {
        "id": "m9arTb-2_AV_"
      },
      "source": [
        "#Data: Monthly transatlantic airtravel, in thousands of passengers, for 1958-1960. There are 4 fields, \"Month\", \"1958\", \"1959\" and \"1960\" and 12 records, \"JAN\" through \"DEC\". "
      ]
    },
    {
      "cell_type": "markdown",
      "metadata": {
        "id": "hmfD4c9E8gSu"
      },
      "source": [
        "#Q1: Import numpy and pandas"
      ]
    },
    {
      "cell_type": "markdown",
      "metadata": {
        "id": "3BujQpMv8lSy"
      },
      "source": [
        "#Q2: Import visualization libraries"
      ]
    },
    {
      "cell_type": "code",
      "metadata": {
        "id": "a-vtWL7SVwM2"
      },
      "source": [
        "from __future__ import print_function\n",
        "\n",
        "import numpy as np\n",
        "import pandas as pd\n",
        "import matplotlib.pyplot as plt\n",
        "import seaborn as sns\n",
        "pd.__version__"
      ],
      "execution_count": null,
      "outputs": []
    },
    {
      "cell_type": "markdown",
      "metadata": {
        "id": "ggj87r1N8s73"
      },
      "source": [
        "#Q3: Read in the csv file as a dataframe called data"
      ]
    },
    {
      "cell_type": "code",
      "metadata": {
        "id": "SuGU2dH9oIEC",
        "colab": {
          "base_uri": "https://localhost:8080/",
          "height": 206
        },
        "outputId": "fbe28ceb-576f-451f-f5eb-c4db69472f1a"
      },
      "source": [
        "data = pd.read_csv(\"airtravel.csv\", header=None)\n",
        "data.head()"
      ],
      "execution_count": 20,
      "outputs": [
        {
          "output_type": "execute_result",
          "data": {
            "text/html": [
              "<div>\n",
              "<style scoped>\n",
              "    .dataframe tbody tr th:only-of-type {\n",
              "        vertical-align: middle;\n",
              "    }\n",
              "\n",
              "    .dataframe tbody tr th {\n",
              "        vertical-align: top;\n",
              "    }\n",
              "\n",
              "    .dataframe thead th {\n",
              "        text-align: right;\n",
              "    }\n",
              "</style>\n",
              "<table border=\"1\" class=\"dataframe\">\n",
              "  <thead>\n",
              "    <tr style=\"text-align: right;\">\n",
              "      <th></th>\n",
              "      <th>0</th>\n",
              "      <th>1</th>\n",
              "      <th>2</th>\n",
              "      <th>3</th>\n",
              "    </tr>\n",
              "  </thead>\n",
              "  <tbody>\n",
              "    <tr>\n",
              "      <th>0</th>\n",
              "      <td>JAN</td>\n",
              "      <td>340</td>\n",
              "      <td>360</td>\n",
              "      <td>417</td>\n",
              "    </tr>\n",
              "    <tr>\n",
              "      <th>1</th>\n",
              "      <td>FEB</td>\n",
              "      <td>318</td>\n",
              "      <td>342</td>\n",
              "      <td>391</td>\n",
              "    </tr>\n",
              "    <tr>\n",
              "      <th>2</th>\n",
              "      <td>MAR</td>\n",
              "      <td>362</td>\n",
              "      <td>406</td>\n",
              "      <td>419</td>\n",
              "    </tr>\n",
              "    <tr>\n",
              "      <th>3</th>\n",
              "      <td>APR</td>\n",
              "      <td>348</td>\n",
              "      <td>396</td>\n",
              "      <td>461</td>\n",
              "    </tr>\n",
              "    <tr>\n",
              "      <th>4</th>\n",
              "      <td>MAY</td>\n",
              "      <td>363</td>\n",
              "      <td>420</td>\n",
              "      <td>472</td>\n",
              "    </tr>\n",
              "  </tbody>\n",
              "</table>\n",
              "</div>"
            ],
            "text/plain": [
              "     0    1    2    3\n",
              "0  JAN  340  360  417\n",
              "1  FEB  318  342  391\n",
              "2  MAR  362  406  419\n",
              "3  APR  348  396  461\n",
              "4  MAY  363  420  472"
            ]
          },
          "metadata": {},
          "execution_count": 20
        }
      ]
    },
    {
      "cell_type": "markdown",
      "metadata": {
        "id": "Jo6VFGuZ9LWX"
      },
      "source": [
        "#Q4: Check the info() of the data"
      ]
    },
    {
      "cell_type": "code",
      "metadata": {
        "colab": {
          "base_uri": "https://localhost:8080/"
        },
        "id": "lJyT81iQ9fVP",
        "outputId": "56579ba4-6f14-4831-def0-aa3e5dd96ced"
      },
      "source": [
        "print(data.dtypes)"
      ],
      "execution_count": 21,
      "outputs": [
        {
          "output_type": "stream",
          "name": "stdout",
          "text": [
            "0    object\n",
            "1     int64\n",
            "2     int64\n",
            "3     int64\n",
            "dtype: object\n"
          ]
        }
      ]
    },
    {
      "cell_type": "markdown",
      "metadata": {
        "id": "Y7jFpdnN-j-q"
      },
      "source": [
        "#Q5: Check the head of the data"
      ]
    },
    {
      "cell_type": "code",
      "metadata": {
        "id": "5Pq7AmqYpVLW",
        "colab": {
          "base_uri": "https://localhost:8080/",
          "height": 206
        },
        "outputId": "68ef747f-ef87-4388-e0b9-aa0428387aea"
      },
      "source": [
        "data.columns = ['Month', '1958_passengers', '1959_passengers', '1960_passengers']\n",
        "data.head()"
      ],
      "execution_count": 25,
      "outputs": [
        {
          "output_type": "execute_result",
          "data": {
            "text/html": [
              "<div>\n",
              "<style scoped>\n",
              "    .dataframe tbody tr th:only-of-type {\n",
              "        vertical-align: middle;\n",
              "    }\n",
              "\n",
              "    .dataframe tbody tr th {\n",
              "        vertical-align: top;\n",
              "    }\n",
              "\n",
              "    .dataframe thead th {\n",
              "        text-align: right;\n",
              "    }\n",
              "</style>\n",
              "<table border=\"1\" class=\"dataframe\">\n",
              "  <thead>\n",
              "    <tr style=\"text-align: right;\">\n",
              "      <th></th>\n",
              "      <th>Month</th>\n",
              "      <th>1958_passengers</th>\n",
              "      <th>1959_passengers</th>\n",
              "      <th>1960_passengers</th>\n",
              "    </tr>\n",
              "  </thead>\n",
              "  <tbody>\n",
              "    <tr>\n",
              "      <th>0</th>\n",
              "      <td>JAN</td>\n",
              "      <td>340</td>\n",
              "      <td>360</td>\n",
              "      <td>417</td>\n",
              "    </tr>\n",
              "    <tr>\n",
              "      <th>1</th>\n",
              "      <td>FEB</td>\n",
              "      <td>318</td>\n",
              "      <td>342</td>\n",
              "      <td>391</td>\n",
              "    </tr>\n",
              "    <tr>\n",
              "      <th>2</th>\n",
              "      <td>MAR</td>\n",
              "      <td>362</td>\n",
              "      <td>406</td>\n",
              "      <td>419</td>\n",
              "    </tr>\n",
              "    <tr>\n",
              "      <th>3</th>\n",
              "      <td>APR</td>\n",
              "      <td>348</td>\n",
              "      <td>396</td>\n",
              "      <td>461</td>\n",
              "    </tr>\n",
              "    <tr>\n",
              "      <th>4</th>\n",
              "      <td>MAY</td>\n",
              "      <td>363</td>\n",
              "      <td>420</td>\n",
              "      <td>472</td>\n",
              "    </tr>\n",
              "  </tbody>\n",
              "</table>\n",
              "</div>"
            ],
            "text/plain": [
              "  Month  1958_passengers  1959_passengers  1960_passengers\n",
              "0   JAN              340              360              417\n",
              "1   FEB              318              342              391\n",
              "2   MAR              362              406              419\n",
              "3   APR              348              396              461\n",
              "4   MAY              363              420              472"
            ]
          },
          "metadata": {},
          "execution_count": 25
        }
      ]
    },
    {
      "cell_type": "markdown",
      "metadata": {
        "id": "Q0Fzg_6B3dEZ"
      },
      "source": [
        "#Q6: Code min function to find the smallest amount of passengers in a year\n"
      ]
    },
    {
      "cell_type": "markdown",
      "metadata": {
        "id": "Vnsbj0UA3jom"
      },
      "source": [
        "#Q7: Code max function to find the largest amount of passengers in a year"
      ]
    },
    {
      "cell_type": "markdown",
      "metadata": {
        "id": "ggf1HmrG3j5o"
      },
      "source": [
        "#Q8: Code mean function to find the average amount of passengers in a year"
      ]
    },
    {
      "cell_type": "markdown",
      "metadata": {
        "id": "2SHyBUaP_4N8"
      },
      "source": [
        "#Q9: Code the functions to draw boxplot chart for passengers in a year over 12 months \n"
      ]
    },
    {
      "cell_type": "markdown",
      "metadata": {
        "id": "Qy1wwRKbAawa"
      },
      "source": [
        "#Q10: Code the functions to detect abnormal amount of passengers. Count all the abnormal amount of passengers.\n"
      ]
    }
  ]
}